{
 "cells": [
  {
   "cell_type": "markdown",
   "metadata": {},
   "source": [
    "# ----- Recommender System for Groceries Contractor -----"
   ]
  },
  {
   "cell_type": "markdown",
   "metadata": {},
   "source": [
    "## Part - 2 : Data"
   ]
  },
  {
   "cell_type": "markdown",
   "metadata": {},
   "source": [
    "As the contractor already made his mind to build warehouse in Scarborough, so for this we will need the data of location coordinates of the Scarborough and its neighbourhoods. Data like latitude and longitudes of Scarborough ans its neighbourhoods.\n",
    "Firstly, we will find the neighbourhoods of Scarborough using the Postal codes.\n",
    "\n",
    "We also need the information of all the venues in each neighbourhood, and that information we can find using 'Foursquare'. Foursquare will provide us almost every information about the venues in the neighbourhood.\n",
    "\n",
    "For example:  Postal Code, Neighbourhood name, Borough name, Venue Latitude, Venue Longitude, Venue Category, Venue Summary, Venue Distance.\n",
    "\n",
    "But we do not need so much information, we only need basic information about venue like latitude, longitude, distance, category.\n"
   ]
  },
  {
   "cell_type": "code",
   "execution_count": null,
   "metadata": {},
   "outputs": [],
   "source": []
  }
 ],
 "metadata": {
  "kernelspec": {
   "display_name": "Python 3",
   "language": "python",
   "name": "python3"
  },
  "language_info": {
   "codemirror_mode": {
    "name": "ipython",
    "version": 3
   },
   "file_extension": ".py",
   "mimetype": "text/x-python",
   "name": "python",
   "nbconvert_exporter": "python",
   "pygments_lexer": "ipython3",
   "version": "3.7.0"
  }
 },
 "nbformat": 4,
 "nbformat_minor": 2
}
