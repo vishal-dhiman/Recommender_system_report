{
 "cells": [
  {
   "cell_type": "markdown",
   "metadata": {},
   "source": [
    "# Recommender System for Groceries Contractor"
   ]
  },
  {
   "cell_type": "markdown",
   "metadata": {},
   "source": [
    "### Part - 1 : Introduction/ Business Problem"
   ]
  },
  {
   "cell_type": "markdown",
   "metadata": {},
   "source": [
    "There is a contractor who buys groceries from villagers and supplies it to the restaurants and other kind of places in Scarborough. Transporting groceries from long distance to different location in Scarborough costs more.\n",
    "So he thought he should build a warehouse in Scarborough near the retaurants and shops to whom he can deliever groceries so he can save his transportation money. \n",
    "  \n",
    "             * Building warehouse near his customers, can deliever them fresh items any time.\n",
    "             * Cooks in restaurants can get fresh groceries early morning and starts cooking without waiting so long for the\n",
    "               groceries.\n",
    "             * There would be no delay in groceries delievery.\n",
    "             * It would save time and money.\n",
    "\n",
    "###### So the contracor wants to find the best neighbourhood in Scarborough that would be nearest to all of his customers, so he build his warehouse there.\n"
   ]
  },
  {
   "cell_type": "code",
   "execution_count": null,
   "metadata": {},
   "outputs": [],
   "source": []
  }
 ],
 "metadata": {
  "kernelspec": {
   "display_name": "Python 3",
   "language": "python",
   "name": "python3"
  },
  "language_info": {
   "codemirror_mode": {
    "name": "ipython",
    "version": 3
   },
   "file_extension": ".py",
   "mimetype": "text/x-python",
   "name": "python",
   "nbconvert_exporter": "python",
   "pygments_lexer": "ipython3",
   "version": "3.7.0"
  }
 },
 "nbformat": 4,
 "nbformat_minor": 2
}
